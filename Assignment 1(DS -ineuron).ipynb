{
 "cells": [
  {
   "cell_type": "markdown",
   "metadata": {},
   "source": [
    "# In the below elements which of them are values or an expression? eg:- values can be integer or string and expressions will be mathematical operators.\n",
    "\n",
    "\n",
    "1) 'hello' is a value\n",
    "2) -87.8 is value\n",
    "3) - is a expression\n",
    "4) / is a expression\n",
    "5) + is a expression\n",
    "6) 6 is a value\n"
   ]
  },
  {
   "cell_type": "markdown",
   "metadata": {},
   "source": [
    "\n",
    "\n",
    "# What is the difference between string and variable?\n",
    "\n",
    "\n",
    "Variable : It can store everything from string to numbers\n",
    "string : It is a type of information you would store in a variable\n",
    " ex:\n",
    "    \n",
    "    a= \" hi my name is akshay\"\n",
    "    here a is variables stores up the value of string "
   ]
  },
  {
   "cell_type": "markdown",
   "metadata": {},
   "source": [
    "# Describe three different data types.\n",
    "\n",
    "1) list\n",
    "2) tuple\n",
    "3) dictionary"
   ]
  },
  {
   "cell_type": "markdown",
   "metadata": {},
   "source": [
    "# What is an expression made up of? What do all expressions do?\n",
    "\n",
    "Expression is combination of operators and operands which gives certain output value\n",
    "In any programming language, an expression is evaluated as per the precedence of its operators.\n",
    "Multiple operators in expression (Operator Precedence)\n",
    "\n"
   ]
  },
  {
   "cell_type": "markdown",
   "metadata": {},
   "source": [
    "# 5. This assignment statements, like spam = 10. What is the difference between an expression and a statement?\n",
    "\n",
    "An expression is any series of symbols that represents a value. For example, 2.9, a + 5, (3 + 5) / 4.\n",
    "Statements represent a motion or command e.g print statements, mission statements. Expressions need to be evaluated"
   ]
  },
  {
   "cell_type": "markdown",
   "metadata": {},
   "source": [
    "# 6. After running the following code, what does the variable bacon contain?\n",
    "bacon = 22\n",
    "bacon + 1\n",
    " \n",
    "bacon contains the value of 22"
   ]
  },
  {
   "cell_type": "markdown",
   "metadata": {},
   "source": [
    "# 7. What should the values of the following two terms be?\n",
    "\n",
    "'spam' + 'spamspam' ='spamspamspam'\n",
    "'spam' * 3 = 'spamspamspam'\n"
   ]
  },
  {
   "cell_type": "markdown",
   "metadata": {},
   "source": [
    "# 8. Why is eggs a valid variable name while 100 is invalid?\n",
    "\n",
    "-->eggs by default is string where as 100 by default is integer\n",
    "-->Integer cannot store string value but string can store integer value by placing single quotes\n",
    "\n",
    "\n"
   ]
  },
  {
   "cell_type": "markdown",
   "metadata": {},
   "source": [
    "# . What three functions can be used to get the integer, floating-point number, or string version of a value?\n",
    "\n",
    "1 int()\n",
    "2 float()\n",
    "3 str()"
   ]
  },
  {
   "cell_type": "markdown",
   "metadata": {},
   "source": [
    "# 10. Why does this expression cause an error? How can you fix it?\n",
    "\n",
    "\n",
    "'I have eaten ' + 99 + ' burritos.'\n",
    "\n",
    "this expression causes an error because it can concatenate str (not \"int\") to str\n",
    "It can be fixed by  adding single to quotes to integer value\n",
    "ex: \n",
    "'I have eaten ' + '99' + ' burritos.'\n",
    "o/p :'I have eaten 99 burritos.'"
   ]
  },
  {
   "cell_type": "code",
   "execution_count": 12,
   "metadata": {},
   "outputs": [
    {
     "data": {
      "text/plain": [
       "'I have eaten 99 burritos.'"
      ]
     },
     "execution_count": 12,
     "metadata": {},
     "output_type": "execute_result"
    }
   ],
   "source": [
    "'I have eaten ' + '99' + ' burritos.'"
   ]
  },
  {
   "cell_type": "code",
   "execution_count": null,
   "metadata": {},
   "outputs": [],
   "source": []
  }
 ],
 "metadata": {
  "kernelspec": {
   "display_name": "Python 3",
   "language": "python",
   "name": "python3"
  },
  "language_info": {
   "codemirror_mode": {
    "name": "ipython",
    "version": 3
   },
   "file_extension": ".py",
   "mimetype": "text/x-python",
   "name": "python",
   "nbconvert_exporter": "python",
   "pygments_lexer": "ipython3",
   "version": "3.8.5"
  }
 },
 "nbformat": 4,
 "nbformat_minor": 4
}
