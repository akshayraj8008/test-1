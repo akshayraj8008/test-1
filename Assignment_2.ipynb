{
 "cells": [
  {
   "cell_type": "markdown",
   "metadata": {},
   "source": [
    "###  1.What are the two values of the Boolean data type? How do you write them?\n",
    "\n",
    "sol : The two values of boolean data type are \n",
    "      1) True  - 1\n",
    "      2) False - 0"
   ]
  },
  {
   "cell_type": "code",
   "execution_count": 1,
   "metadata": {},
   "outputs": [
    {
     "data": {
      "text/plain": [
       "True"
      ]
     },
     "execution_count": 1,
     "metadata": {},
     "output_type": "execute_result"
    }
   ],
   "source": [
    "10>9"
   ]
  },
  {
   "cell_type": "code",
   "execution_count": 2,
   "metadata": {},
   "outputs": [
    {
     "data": {
      "text/plain": [
       "False"
      ]
     },
     "execution_count": 2,
     "metadata": {},
     "output_type": "execute_result"
    }
   ],
   "source": [
    "10>12"
   ]
  },
  {
   "cell_type": "markdown",
   "metadata": {},
   "source": [
    "###  2 .What are the three different types of Boolean operators?\n",
    "\n",
    "sol: 1) AND  operator\n",
    "     2) OR   operator\n",
    "     3) NOT  operator"
   ]
  },
  {
   "cell_type": "markdown",
   "metadata": {},
   "source": [
    "### 3. Make a list of each Boolean operator's truth tables (i.e. every possible combination of Booleanvalues for the operator and what it evaluate ).\n",
    "\n",
    "sol : 1) AND operator truth table :\n",
    "\n",
    "\n",
    "First \tSecond \tResult\n",
    "True\tTrue\tTrue\n",
    "True\tFalse\tFalse\n",
    "False\tTrue\tFalse\n",
    "False\tFalse\tFalse\n",
    "\n",
    "ex: 5 < 7 and 5 > 3\n",
    "\n",
    "2) OR operator :\n",
    "\n",
    "First \tSecond \tResult\n",
    "True\tTrue\tTrue\n",
    "True\tFalse\tTrue\n",
    "False\tTrue\tTrue\n",
    "False\tFalse\tFalse\n",
    "\n",
    "ex:5 < 3 or 3 == 3\n",
    "\n",
    "3) Not operator :\n",
    "\n",
    "Operand\tResult\t\n",
    "True\tFalse\n",
    "False\tTrue\n",
    "\n",
    "ex: \n"
   ]
  },
  {
   "cell_type": "code",
   "execution_count": 4,
   "metadata": {},
   "outputs": [
    {
     "data": {
      "text/plain": [
       "True"
      ]
     },
     "execution_count": 4,
     "metadata": {},
     "output_type": "execute_result"
    }
   ],
   "source": [
    "not (5 < 3 and 5 < 33)"
   ]
  },
  {
   "cell_type": "code",
   "execution_count": 5,
   "metadata": {},
   "outputs": [
    {
     "data": {
      "text/plain": [
       "False"
      ]
     },
     "execution_count": 5,
     "metadata": {},
     "output_type": "execute_result"
    }
   ],
   "source": [
    "not (5 < 3 or 5 < 33)"
   ]
  },
  {
   "cell_type": "markdown",
   "metadata": {},
   "source": [
    "###  4. What are the values of the following expressions?\n",
    "\n",
    "A)  (5 > 4) and (3 == 5)            gives  \"False\"\n",
    "\n",
    "B)  not (5 > 4)                     gives \"False\"\n",
    "\n",
    "C)  (5 > 4) or (3 == 5)             gives \"True\"\n",
    "\n",
    "D)  not ((5 > 4) or (3 == 5))       gives \"False\"\n",
    "   \n",
    "   ex: ((5>4) or (3==5))             gives \"True\"\n",
    "       not ((5 > 4) or (3 == 5))     gives \"False\"\n",
    "       \n",
    "E) (True and True) and (True == False)      gives  \"False\"\n",
    "\n",
    "F) (not False) or (not True)                gives  \"True\""
   ]
  },
  {
   "cell_type": "markdown",
   "metadata": {},
   "source": [
    "###   5. What are the six comparison operators?\n",
    "\n",
    "1) <\n",
    "\n",
    "2  <=\n",
    "\n",
    "3) >\n",
    "\n",
    "4) >=\n",
    "\n",
    "5) ==\n",
    "\n",
    "6) !="
   ]
  },
  {
   "cell_type": "markdown",
   "metadata": {},
   "source": [
    "###   6. How do you tell the difference between the equal to and assignment operators?Describe a condition and when you would use one.\n",
    "\n",
    "sol:  In python equal to is used to assign a value to the variable , whereas \"==\" is used to check whether 2 expressions give the same value.\n",
    "\n",
    "note :   \"=\" is an assignment operator\n",
    "         \"==\" is an  equality operator\n",
    "    \n",
    "Ex:  x=10,y=20,z=20\n",
    "     (x==y) is False because we assigned different values to x and y\n",
    "     (y==z) is True because we assigned equal values to x and y"
   ]
  },
  {
   "cell_type": "markdown",
   "metadata": {},
   "source": [
    "###  7. Identify the three blocks in this code:\n",
    "\n",
    "1) first block code -\n",
    "if spam == 10:\n",
    "print(\"eggs\")\n",
    "\n",
    "2) second block code-\n",
    "if spam > 5:\n",
    "print(\"bacon\")\n",
    "\n",
    "3) third block code -\n",
    "\n",
    "print(\"ham\")\n",
    "print(\"spam\")\n",
    "print(\"spam\")"
   ]
  },
  {
   "cell_type": "markdown",
   "metadata": {},
   "source": []
  },
  {
   "cell_type": "markdown",
   "metadata": {},
   "source": [
    "### 8. Write code that prints Hello if 1 is stored in spam, prints Howdy if 2 is stored in spam, and prints Greetings! if anything else is stored in spam.\n",
    "\n"
   ]
  },
  {
   "cell_type": "code",
   "execution_count": 26,
   "metadata": {},
   "outputs": [
    {
     "name": "stdout",
     "output_type": "stream",
     "text": [
      " enter the value :two\n",
      "Howdy\n"
     ]
    }
   ],
   "source": [
    "spam=input(\" enter the value :\")\n",
    "\n",
    "if spam==\"one\":\n",
    "    print(\"Hello\")\n",
    "if spam==\"two\":\n",
    "    print(\"Howdy\")\n",
    "if spam==\"anything\":\n",
    "    print(\"Greetings !\")\n",
    "    \n"
   ]
  },
  {
   "cell_type": "markdown",
   "metadata": {},
   "source": [
    "###  9.If your programme is stuck in an endless loop, what keys you’ll press?\n",
    "\n",
    "sol :  use  \"ctrl + c\" to stop the infinite loop"
   ]
  },
  {
   "cell_type": "markdown",
   "metadata": {},
   "source": [
    " ###  10. How can you tell the difference between break and continue?\n",
    " \n",
    " sol:\n",
    "\n",
    "The main difference between break and continue statement is that when break keyword is encountered, it will exit the loop.\n",
    "\n",
    "In case of continue keyword, the current iteration that is running will be stopped, and it will proceed with the next iteration.\n",
    "\n"
   ]
  },
  {
   "cell_type": "code",
   "execution_count": 31,
   "metadata": {},
   "outputs": [
    {
     "name": "stdout",
     "output_type": "stream",
     "text": [
      "akshay\n",
      "akshay\n",
      "akshay\n",
      "the end\n"
     ]
    }
   ],
   "source": [
    "# break\n",
    "for val in \"string\":\n",
    "    if val==\"i\":\n",
    "        break\n",
    "    print(\"akshay\")\n",
    "print(\"the end\")"
   ]
  },
  {
   "cell_type": "code",
   "execution_count": 32,
   "metadata": {},
   "outputs": [
    {
     "name": "stdout",
     "output_type": "stream",
     "text": [
      "akshay\n",
      "akshay\n",
      "akshay\n",
      "akshay\n",
      "akshay\n",
      "the end\n"
     ]
    }
   ],
   "source": [
    "# continue\n",
    "for val in \"string\":\n",
    "    if val==\"i\":\n",
    "        continue\n",
    "    print(\"akshay\")\n",
    "print(\"the end\")"
   ]
  },
  {
   "cell_type": "markdown",
   "metadata": {},
   "source": [
    "###  11. In a for loop, what is the difference between range(10), range(0, 10), and range(0, 10, 1)?\n",
    "\n",
    "sol:\n",
    "\n",
    "1) range(10) = range(stop) takes one argument.\n",
    "2) range(0,10) = range(start, stop) takes two arguments.\n",
    "3) range(0,10,1) = range(start, stop, step) takes three arguments."
   ]
  },
  {
   "cell_type": "markdown",
   "metadata": {},
   "source": [
    " ###   12. Write a short program that prints the numbers 1 to 10 using a for loop. Then write an equivalent program that prints the numbers 1 to 10 using a while loop."
   ]
  },
  {
   "cell_type": "code",
   "execution_count": 36,
   "metadata": {},
   "outputs": [
    {
     "name": "stdout",
     "output_type": "stream",
     "text": [
      "1\n",
      "2\n",
      "3\n",
      "4\n",
      "5\n",
      "6\n",
      "7\n",
      "8\n",
      "9\n"
     ]
    }
   ],
   "source": [
    "#For loop:\n",
    "for i in range(1,10):\n",
    "    print(i)"
   ]
  },
  {
   "cell_type": "code",
   "execution_count": 40,
   "metadata": {},
   "outputs": [
    {
     "name": "stdout",
     "output_type": "stream",
     "text": [
      "0\n",
      "1\n",
      "2\n",
      "3\n",
      "4\n",
      "5\n",
      "6\n",
      "7\n",
      "8\n",
      "9\n"
     ]
    }
   ],
   "source": [
    "# while loop\n",
    "i=0\n",
    "while i<10:\n",
    "    print(i)\n",
    "    i=i+1"
   ]
  },
  {
   "cell_type": "markdown",
   "metadata": {},
   "source": [
    "###   13. If you had a function named bacon() inside a module named spam, how would you call it after importing spam?\n",
    "\n",
    "sol : This function can be called with spam. bacon()"
   ]
  },
  {
   "cell_type": "code",
   "execution_count": null,
   "metadata": {},
   "outputs": [],
   "source": []
  }
 ],
 "metadata": {
  "kernelspec": {
   "display_name": "Python 3",
   "language": "python",
   "name": "python3"
  },
  "language_info": {
   "codemirror_mode": {
    "name": "ipython",
    "version": 3
   },
   "file_extension": ".py",
   "mimetype": "text/x-python",
   "name": "python",
   "nbconvert_exporter": "python",
   "pygments_lexer": "ipython3",
   "version": "3.8.5"
  }
 },
 "nbformat": 4,
 "nbformat_minor": 4
}
